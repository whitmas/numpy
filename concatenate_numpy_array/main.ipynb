{
 "cells": [
  {
   "cell_type": "code",
   "execution_count": 10,
   "metadata": {},
   "outputs": [
    {
     "name": "stdout",
     "output_type": "stream",
     "text": [
      "[[1 2]\n",
      " [3 4]]\n",
      "[[5 6]]\n",
      "[[1 2 5]\n",
      " [3 4 6]]\n"
     ]
    }
   ],
   "source": [
    "import numpy as np\n",
    "\n",
    "a = np.array([[1, 2], [3, 4]])\n",
    "b = np.array([[5, 6]])\n",
    "c = np.concatenate((a, b), axis=0)\n",
    "c = np.concatenate((a, b.T), axis=1)\n",
    "# c = np.concatenate((a, b), axis=None)\n",
    "\n",
    "print(a)\n",
    "print(b)\n",
    "print(c)"
   ]
  },
  {
   "cell_type": "markdown",
   "metadata": {},
   "source": [
    "```numpy.r_[array[], array[]]```\n",
    "This is a simple way to concatenate any number of array slices along row axis. \n",
    "\n",
    "```numpy.c_[array[], array[]]```\n",
    "This is a simple way to concatenate any number of array slices along column axis. \n",
    "\n",
    "https://stackoverflow.com/questions/30597869/what-does-np-r-do-numpy"
   ]
  },
  {
   "cell_type": "code",
   "execution_count": 19,
   "metadata": {},
   "outputs": [
    {
     "name": "stdout",
     "output_type": "stream",
     "text": [
      "[[0 1 2]\n",
      " [3 4 5]\n",
      " [6 7 8]]\n",
      "[[10 11 12]\n",
      " [13 14 15]\n",
      " [16 17 18]]\n",
      "\n",
      "[4 5]\n",
      "[14 15]\n",
      "[ 4  5 14 15]\n",
      "[ 4  5 14 15]\n",
      "[ 4  5 14 15]\n",
      "\n",
      "[4 5]\n",
      "[14 15]\n",
      "[[ 4 14]\n",
      " [ 5 15]]\n",
      "[[ 4 14]\n",
      " [ 5 15]]\n",
      "[[ 4 14]\n",
      " [ 5 15]]\n"
     ]
    }
   ],
   "source": [
    "import numpy as np\n",
    "\n",
    "a = np.arange(9).reshape(3,3)\n",
    "b = np.arange(10,19).reshape(3,3)\n",
    "print(a)\n",
    "print(b)\n",
    "print()\n",
    "\n",
    "sliced_a = a[1,1:3]\n",
    "sliced_b = b[1,1:3]\n",
    "c1 = np.concatenate((sliced_a, sliced_b)) \n",
    "c2 = np.hstack((sliced_a,sliced_b))\n",
    "c3 = np.r_[sliced_a,sliced_b]\n",
    "print(sliced_a)\n",
    "print(sliced_b)\n",
    "print(c1)\n",
    "print(c2)\n",
    "print(c3)\n",
    "print()\n",
    "\n",
    "sliced_a = a[1,1:3]\n",
    "sliced_b = b[1,1:3]\n",
    "c1 = np.concatenate((sliced_a.reshape((1,-1)), sliced_b.reshape((1,-1))), axis = 0).T\n",
    "c2 = np.vstack((sliced_a,sliced_b)).T\n",
    "c3 = np.c_[sliced_a,sliced_b]\n",
    "print(sliced_a)\n",
    "print(sliced_b)\n",
    "print(c1)\n",
    "print(c2)\n",
    "print(c3)"
   ]
  },
  {
   "cell_type": "code",
   "execution_count": 28,
   "metadata": {},
   "outputs": [
    {
     "name": "stdout",
     "output_type": "stream",
     "text": [
      "[[-1.35647608 -0.41018247 -0.60506871]\n",
      " [-1.99390954 -0.2128536  -2.46853354]\n",
      " [ 1.46115896 -0.3095297  -0.12914694]\n",
      " [ 0.75505084 -0.59263306  0.38772376]\n",
      " [-1.54699176  1.02812879 -0.68746898]\n",
      " [ 1.28396106 -1.40472966  1.25268532]\n",
      " [-0.75291786  0.50646356 -0.88758717]\n",
      " [-0.75336582  0.98793086 -0.57071182]\n",
      " [-0.66940084  0.20489547  2.25436846]\n",
      " [ 1.62163928 -0.04610234 -0.70078241]]\n",
      "[[ 1.         -1.35647608 -0.41018247 -0.60506871]\n",
      " [ 1.         -1.99390954 -0.2128536  -2.46853354]\n",
      " [ 1.          1.46115896 -0.3095297  -0.12914694]\n",
      " [ 1.          0.75505084 -0.59263306  0.38772376]\n",
      " [ 1.         -1.54699176  1.02812879 -0.68746898]\n",
      " [ 1.          1.28396106 -1.40472966  1.25268532]\n",
      " [ 1.         -0.75291786  0.50646356 -0.88758717]\n",
      " [ 1.         -0.75336582  0.98793086 -0.57071182]\n",
      " [ 1.         -0.66940084  0.20489547  2.25436846]\n",
      " [ 1.          1.62163928 -0.04610234 -0.70078241]]\n"
     ]
    }
   ],
   "source": [
    "import numpy as np\n",
    "\n",
    "x = np.random.normal(size=(10,3))\n",
    "#A = np.r_[np.ones(3).reshape((1,-1)), x]\n",
    "A = np.c_[np.ones(10).reshape((-1,1)), x]\n",
    "print(x)\n",
    "print(A)"
   ]
  },
  {
   "cell_type": "code",
   "execution_count": null,
   "metadata": {},
   "outputs": [],
   "source": []
  }
 ],
 "metadata": {
  "kernelspec": {
   "display_name": "Python [conda env:anaconda]",
   "language": "python",
   "name": "conda-env-anaconda-py"
  },
  "language_info": {
   "codemirror_mode": {
    "name": "ipython",
    "version": 3
   },
   "file_extension": ".py",
   "mimetype": "text/x-python",
   "name": "python",
   "nbconvert_exporter": "python",
   "pygments_lexer": "ipython3",
   "version": "3.5.5"
  }
 },
 "nbformat": 4,
 "nbformat_minor": 2
}
